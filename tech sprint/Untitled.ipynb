{
 "cells": [
  {
   "cell_type": "code",
   "execution_count": null,
   "id": "9c1cf3b0-637a-4424-be10-adcaa0f62ce7",
   "metadata": {},
   "outputs": [
    {
     "name": "stdout",
     "output_type": "stream",
     "text": [
      "Current contents of mydata.txt:\n",
      "1234\n"
     ]
    }
   ],
   "source": [
    "try:\n",
    "    with open(\"mydata.txt\", \"r\") as file:\n",
    "        old_content = file.read()\n",
    "        print(\"Current contents of mydata.txt:\")\n",
    "        print(old_content)\n",
    "except FileNotFoundError:\n",
    "    print(\"The file 'mydata.txt' was not found. It will be created.\")\n",
    "except Exception as e:\n",
    "    print(f\"I am in office. Error reading file: {e}\")\n",
    "\n",
    "new_content = input(\"\\nEnter new content to replace the file content:\\n\")\n",
    "\n",
    "try:\n",
    "    with open(\"mydata.txt\", \"w\") as file:\n",
    "        file.write(new_content)\n",
    "    print(\"\\nmydata.txt has been updated with your new content.\")\n",
    "except Exception as e:\n",
    "    print(f\"Error writing to file: {e}\")"
   ]
  },
  {
   "cell_type": "code",
   "execution_count": null,
   "id": "71d83c51-d47c-43c3-8dd2-2de084357528",
   "metadata": {},
   "outputs": [],
   "source": []
  }
 ],
 "metadata": {
  "kernelspec": {
   "display_name": "Python 3 (ipykernel)",
   "language": "python",
   "name": "python3"
  },
  "language_info": {
   "codemirror_mode": {
    "name": "ipython",
    "version": 3
   },
   "file_extension": ".py",
   "mimetype": "text/x-python",
   "name": "python",
   "nbconvert_exporter": "python",
   "pygments_lexer": "ipython3",
   "version": "3.12.7"
  }
 },
 "nbformat": 4,
 "nbformat_minor": 5
}
