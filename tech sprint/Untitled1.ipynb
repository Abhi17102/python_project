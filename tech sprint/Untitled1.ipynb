{
 "cells": [
  {
   "cell_type": "code",
   "execution_count": 1,
   "id": "51c4147b-175a-4654-9ca9-e07c229f0234",
   "metadata": {},
   "outputs": [
    {
     "name": "stdout",
     "output_type": "stream",
     "text": [
      "Full array: [ 5  8 12  3  7  9  4  6 10 15]\n",
      "Shape: (10,)\n",
      "Size: 10\n",
      "Data type: int32\n",
      "First 5 elements: [ 5  8 12  3  7]\n",
      "Modified array: [  5   8  12   3   7   9   4 100 200 300]\n",
      "Sum: 648\n",
      "Mean: 64.8\n",
      "Standard Deviation: 99.19556441696372\n"
     ]
    }
   ],
   "source": [
    "import numpy as np\n",
    "\n",
    "arr = np.array([5, 8, 12, 3, 7, 9, 4, 6, 10, 15])\n",
    "\n",
    "print(\"Full array:\", arr)\n",
    "print(\"Shape:\", arr.shape)\n",
    "print(\"Size:\", arr.size)\n",
    "print(\"Data type:\", arr.dtype)\n",
    "\n",
    "print(\"First 5 elements:\", arr[:5])\n",
    "\n",
    "arr[-3:] = [100, 200, 300]\n",
    "print(\"Modified array:\", arr)\n",
    "\n",
    "print(\"Sum:\", np.sum(arr))\n",
    "print(\"Mean:\", np.mean(arr))\n",
    "print(\"Standard Deviation:\", np.std(arr))\n"
   ]
  },
  {
   "cell_type": "code",
   "execution_count": null,
   "id": "592096f5-e786-4f37-8c73-680c5efc5d9e",
   "metadata": {},
   "outputs": [],
   "source": []
  }
 ],
 "metadata": {
  "kernelspec": {
   "display_name": "Python 3 (ipykernel)",
   "language": "python",
   "name": "python3"
  },
  "language_info": {
   "codemirror_mode": {
    "name": "ipython",
    "version": 3
   },
   "file_extension": ".py",
   "mimetype": "text/x-python",
   "name": "python",
   "nbconvert_exporter": "python",
   "pygments_lexer": "ipython3",
   "version": "3.12.7"
  }
 },
 "nbformat": 4,
 "nbformat_minor": 5
}
